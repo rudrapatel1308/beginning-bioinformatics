{
  "nbformat": 4,
  "nbformat_minor": 0,
  "metadata": {
    "colab": {
      "provenance": [],
      "authorship_tag": "ABX9TyOo0H7UCra7/1zYRq+Rvath",
      "include_colab_link": true
    },
    "kernelspec": {
      "name": "python3",
      "display_name": "Python 3"
    },
    "language_info": {
      "name": "python"
    }
  },
  "cells": [
    {
      "cell_type": "markdown",
      "metadata": {
        "id": "view-in-github",
        "colab_type": "text"
      },
      "source": [
        "<a href=\"https://colab.research.google.com/github/rudrapatel1308/beginning-bioinformatics/blob/main/Bioinformatics_Week3.ipynb\" target=\"_parent\"><img src=\"https://colab.research.google.com/assets/colab-badge.svg\" alt=\"Open In Colab\"/></a>"
      ]
    },
    {
      "cell_type": "markdown",
      "source": [
        "P-6"
      ],
      "metadata": {
        "id": "15foywfjWOoI"
      }
    },
    {
      "cell_type": "code",
      "execution_count": null,
      "metadata": {
        "colab": {
          "base_uri": "https://localhost:8080/"
        },
        "id": "1O1ho1mNVDdy",
        "outputId": "575ef3de-81b9-4abe-9625-54a45db9a2ea"
      },
      "outputs": [
        {
          "output_type": "stream",
          "name": "stdout",
          "text": [
            "Enter your name: Rudra\n",
            "Hello Rudra\n"
          ]
        }
      ],
      "source": [
        "name = input(\"Enter your name: \")\n",
        "print(\"Hello\", name)\n"
      ]
    },
    {
      "cell_type": "code",
      "source": [
        "# Task P6.2\n",
        "a = int(input(\"Enter the first number (a): \"))\n",
        "b = int(input(\"Enter the second number (b): \"))\n",
        "c_squared = a**2 + b**2\n",
        "print(\"The square of the hypotenuse is:\", c_squared)\n"
      ],
      "metadata": {
        "colab": {
          "base_uri": "https://localhost:8080/"
        },
        "id": "UAK-0xV8X_BF",
        "outputId": "bc1c02ae-b112-4551-9d1e-55bf37219675"
      },
      "execution_count": null,
      "outputs": [
        {
          "output_type": "stream",
          "name": "stdout",
          "text": [
            "Enter the first number (a): 810\n",
            "Enter the second number (b): 991\n",
            "The square of the hypotenuse is: 1638181\n"
          ]
        }
      ]
    },
    {
      "cell_type": "markdown",
      "source": [
        "P-7"
      ],
      "metadata": {
        "id": "VKmRrNyqWQ8l"
      }
    },
    {
      "cell_type": "code",
      "source": [
        "# Task P7.1\n",
        "my_list = [\"Rudra\", \"Shlok\", \"Shilp\"]\n",
        "\n",
        "# Print the second element (index 1 → because indexing starts at 0)\n",
        "print(my_list[1])   # Output: World\n"
      ],
      "metadata": {
        "colab": {
          "base_uri": "https://localhost:8080/"
        },
        "id": "XWi70VEvWH14",
        "outputId": "010623b2-7be2-428a-c56b-40b116297448"
      },
      "execution_count": null,
      "outputs": [
        {
          "output_type": "stream",
          "name": "stdout",
          "text": [
            "Shlok\n"
          ]
        }
      ]
    },
    {
      "cell_type": "code",
      "source": [
        "# Task P7.2\n",
        "my_list[2] = \"Alfred R. Wallace\"  # Replacing \"Charles Darwin\" at index 2\n",
        "print(my_list)  # ['Hello', 'World', 'Alfred R. Wallace']\n"
      ],
      "metadata": {
        "colab": {
          "base_uri": "https://localhost:8080/"
        },
        "id": "A2kgICDxYrJp",
        "outputId": "33554451-0da9-49b7-a746-f0daf342c61c"
      },
      "execution_count": null,
      "outputs": [
        {
          "output_type": "stream",
          "name": "stdout",
          "text": [
            "['Rudra', 'Shlok', 'Alfred R. Wallace']\n"
          ]
        }
      ]
    },
    {
      "cell_type": "code",
      "source": [
        "# Task P7.3\n",
        "my_list.append(\"Charles Darwin\")  # Add item back at the end of the list\n",
        "print(my_list)  # ['Hello', 'World', 'Alfred R. Wallace', 'Charles Darwin']\n"
      ],
      "metadata": {
        "colab": {
          "base_uri": "https://localhost:8080/"
        },
        "id": "AyWyKNcVYuQ5",
        "outputId": "bebd0aee-f8bf-4b10-94ef-a016a50145f3"
      },
      "execution_count": null,
      "outputs": [
        {
          "output_type": "stream",
          "name": "stdout",
          "text": [
            "['Rudra', 'Shlok', 'Alfred R. Wallace', 'Charles Darwin']\n"
          ]
        }
      ]
    },
    {
      "cell_type": "code",
      "source": [
        "# Task P7.4\n",
        "my_list.insert(1, \"Inserted Item\")  # Insert at index 1\n",
        "print(my_list)\n",
        "\n"
      ],
      "metadata": {
        "colab": {
          "base_uri": "https://localhost:8080/"
        },
        "id": "2VzVDflkYwrK",
        "outputId": "59716139-bec7-4153-a669-ad0037c363d2"
      },
      "execution_count": null,
      "outputs": [
        {
          "output_type": "stream",
          "name": "stdout",
          "text": [
            "['Rudra', 'Inserted Item', 'Inserted Item', 'Shlok', 'Alfred R. Wallace', 'Charles Darwin']\n"
          ]
        }
      ]
    },
    {
      "cell_type": "markdown",
      "source": [
        "P-8"
      ],
      "metadata": {
        "id": "SBEXaEJeWV9F"
      }
    },
    {
      "cell_type": "code",
      "source": [
        "my_list = ['Rudra', 'Inserted Item', 'Inserted Item', 'Shlok', 'Alfred R. Wallace', 'Charles Darwin']\n",
        "\n",
        "# Slice World and Alfred R. Wallace\n",
        "print(my_list[2:4])   # ['World', 'Alfred R. Wallace']\n"
      ],
      "metadata": {
        "colab": {
          "base_uri": "https://localhost:8080/"
        },
        "id": "bfVFtv7-WNVp",
        "outputId": "862785f6-7f9f-4c56-980d-19d89763a3fd"
      },
      "execution_count": null,
      "outputs": [
        {
          "output_type": "stream",
          "name": "stdout",
          "text": [
            "['Inserted Item', 'Shlok']\n"
          ]
        }
      ]
    },
    {
      "cell_type": "code",
      "source": [
        "my_string = \"HelloWorldCharlesDarwinAlfred R. Wallace\"\n",
        "\n",
        "# Slice Wallace\n",
        "wallace = my_string[33:]       # from index 33 to end\n",
        "world   = my_string[5:10]      # World is between index 5 and 9\n",
        "print(wallace, world)          # Wallace World\n"
      ],
      "metadata": {
        "colab": {
          "base_uri": "https://localhost:8080/"
        },
        "id": "xpcAnKkaZOBP",
        "outputId": "f52144fd-4029-4a2b-f023-0a8174790414"
      },
      "execution_count": null,
      "outputs": [
        {
          "output_type": "stream",
          "name": "stdout",
          "text": [
            "Wallace World\n"
          ]
        }
      ]
    },
    {
      "cell_type": "code",
      "source": [
        "# Task P8.3 Rosalind #2\n",
        "s = input(\"Enter the string: \")\n",
        "a, b, c, d = map(int, input(\"Enter four integers separated by spaces: \").split())\n",
        "\n",
        "print(s[a:b+1], s[c:d+1])\n"
      ],
      "metadata": {
        "colab": {
          "base_uri": "https://localhost:8080/"
        },
        "id": "gbYb1GhrZhfj",
        "outputId": "a70464ba-eaf3-45bd-af90-1a34ff05bc31"
      },
      "execution_count": null,
      "outputs": [
        {
          "output_type": "stream",
          "name": "stdout",
          "text": [
            "Enter the string: icU83U2xQpwkpGNqCPplVHnVr2Xj9MwD05ha4q2gwqZkQeASBzEyTtb5b70P3cdAJFtuqKDWRImKITringa6odPHrfz60voUz5Jy50JKXPgarullusnLuiudxEylZocvJtcKFxDJv9adKQU0UlVBHPd9W7bBOwe43mKiy.\n",
            "Enter four integers separated by spaces: 77 82 106 113\n",
            "Tringa garullus\n"
          ]
        }
      ]
    },
    {
      "cell_type": "markdown",
      "source": [
        "P-9"
      ],
      "metadata": {
        "id": "8BOypXLJWYlK"
      }
    },
    {
      "cell_type": "code",
      "source": [
        "a = 5\n",
        "b = 5\n",
        "if a == b:\n",
        "    print(a + b)\n",
        "else:\n",
        "    print(a - b)\n"
      ],
      "metadata": {
        "colab": {
          "base_uri": "https://localhost:8080/"
        },
        "id": "KJeCc0yCWXZV",
        "outputId": "c6ecb190-b332-43ca-a2a7-a073979ff8cd"
      },
      "execution_count": null,
      "outputs": [
        {
          "output_type": "stream",
          "name": "stdout",
          "text": [
            "10\n"
          ]
        }
      ]
    },
    {
      "cell_type": "code",
      "source": [],
      "metadata": {
        "id": "HVm8e3rwWcvB"
      },
      "execution_count": null,
      "outputs": []
    }
  ]
}