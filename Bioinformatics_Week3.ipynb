{
  "nbformat": 4,
  "nbformat_minor": 0,
  "metadata": {
    "colab": {
      "provenance": [],
      "authorship_tag": "ABX9TyNQH7x9SwFvXIpypcQqUF5q",
      "include_colab_link": true
    },
    "kernelspec": {
      "name": "python3",
      "display_name": "Python 3"
    },
    "language_info": {
      "name": "python"
    }
  },
  "cells": [
    {
      "cell_type": "markdown",
      "metadata": {
        "id": "view-in-github",
        "colab_type": "text"
      },
      "source": [
        "<a href=\"https://colab.research.google.com/github/rudrapatel1308/beginning-bioinformatics/blob/main/Bioinformatics_Week3.ipynb\" target=\"_parent\"><img src=\"https://colab.research.google.com/assets/colab-badge.svg\" alt=\"Open In Colab\"/></a>"
      ]
    },
    {
      "cell_type": "markdown",
      "source": [
        "# Name: Rudra Maheshbhai Patel"
      ],
      "metadata": {
        "id": "tdy-OHT9d15Z"
      }
    },
    {
      "cell_type": "markdown",
      "source": [
        "P-6"
      ],
      "metadata": {
        "id": "15foywfjWOoI"
      }
    },
    {
      "cell_type": "code",
      "execution_count": null,
      "metadata": {
        "id": "1O1ho1mNVDdy",
        "colab": {
          "base_uri": "https://localhost:8080/"
        },
        "outputId": "892b69a3-5eda-46da-e479-4ffa619cf409"
      },
      "outputs": [
        {
          "output_type": "stream",
          "name": "stdout",
          "text": [
            "Enter your name: Rudra\n",
            "Hello Rudra\n"
          ]
        }
      ],
      "source": [
        "# Task P6.1\n",
        "name = input(\"Enter your name: \")\n",
        "print(\"Hello\", name)\n"
      ]
    },
    {
      "cell_type": "code",
      "source": [
        "# Task P6.2\n",
        "a = int(input(\"Enter the first number (a): \"))\n",
        "b = int(input(\"Enter the second number (b): \"))\n",
        "c_squared = a**2 + b**2\n",
        "print(\"The square of the hypotenuse is:\", c_squared)\n"
      ],
      "metadata": {
        "colab": {
          "base_uri": "https://localhost:8080/"
        },
        "id": "UAK-0xV8X_BF",
        "outputId": "c2ea2f61-4058-49bf-a122-ea234eaaceaa"
      },
      "execution_count": null,
      "outputs": [
        {
          "output_type": "stream",
          "name": "stdout",
          "text": [
            "Enter the first number (a): 810\n",
            "Enter the second number (b): 991\n",
            "The square of the hypotenuse is: 1638181\n"
          ]
        }
      ]
    },
    {
      "cell_type": "markdown",
      "source": [
        "P-7"
      ],
      "metadata": {
        "id": "VKmRrNyqWQ8l"
      }
    },
    {
      "cell_type": "code",
      "source": [
        "# Task P7.1\n",
        "my_list = [\"Rudra\", \"Shlok\", \"Shilp\"]\n",
        "\n",
        "# Print the second element (index 1 → because indexing starts at 0)\n",
        "print(my_list[1])   # Output: World\n"
      ],
      "metadata": {
        "colab": {
          "base_uri": "https://localhost:8080/"
        },
        "id": "XWi70VEvWH14",
        "outputId": "6b8c03dd-6adf-4b3f-c9a4-c5a3e83c00a4"
      },
      "execution_count": null,
      "outputs": [
        {
          "output_type": "stream",
          "name": "stdout",
          "text": [
            "Shlok\n"
          ]
        }
      ]
    },
    {
      "cell_type": "code",
      "source": [
        "# Task P7.2\n",
        "my_list[2] = \"Alfred R. Wallace\"  # Replacing \"Charles Darwin\" at index 2\n",
        "print(my_list)  # ['Hello', 'World', 'Alfred R. Wallace']\n"
      ],
      "metadata": {
        "colab": {
          "base_uri": "https://localhost:8080/"
        },
        "id": "A2kgICDxYrJp",
        "outputId": "731f3f96-edba-4528-e4dc-05e7967f1558"
      },
      "execution_count": null,
      "outputs": [
        {
          "output_type": "stream",
          "name": "stdout",
          "text": [
            "['Rudra', 'Shlok', 'Alfred R. Wallace']\n"
          ]
        }
      ]
    },
    {
      "cell_type": "code",
      "source": [
        "# Task P7.3\n",
        "my_list.append(\"Charles Darwin\")  # Add item back at the end of the list\n",
        "print(my_list)  # ['Hello', 'World', 'Alfred R. Wallace', 'Charles Darwin']\n"
      ],
      "metadata": {
        "colab": {
          "base_uri": "https://localhost:8080/"
        },
        "id": "AyWyKNcVYuQ5",
        "outputId": "5672f48d-7bc7-4737-99cd-573ded5b653d"
      },
      "execution_count": null,
      "outputs": [
        {
          "output_type": "stream",
          "name": "stdout",
          "text": [
            "['Rudra', 'Shlok', 'Alfred R. Wallace', 'Charles Darwin']\n"
          ]
        }
      ]
    },
    {
      "cell_type": "code",
      "source": [
        "# Task P7.4\n",
        "my_list.insert(1, \"Inserted Item\")  # Insert at index 1\n",
        "print(my_list)\n",
        "\n"
      ],
      "metadata": {
        "colab": {
          "base_uri": "https://localhost:8080/"
        },
        "id": "2VzVDflkYwrK",
        "outputId": "00a55874-4dbb-4536-cdb9-0f7658b2a7bd"
      },
      "execution_count": null,
      "outputs": [
        {
          "output_type": "stream",
          "name": "stdout",
          "text": [
            "['Rudra', 'Inserted Item', 'Shlok', 'Alfred R. Wallace', 'Charles Darwin']\n"
          ]
        }
      ]
    },
    {
      "cell_type": "markdown",
      "source": [
        "P-8"
      ],
      "metadata": {
        "id": "SBEXaEJeWV9F"
      }
    },
    {
      "cell_type": "code",
      "source": [
        "# Task P8.1\n",
        "my_list = ['Rudra', 'Inserted Item', 'Inserted Item', 'Shlok', 'Alfred R. Wallace', 'Charles Darwin']\n",
        "\n",
        "# Slice World and Alfred R. Wallace\n",
        "print(my_list[2:4])   # ['World', 'Alfred R. Wallace']\n"
      ],
      "metadata": {
        "colab": {
          "base_uri": "https://localhost:8080/"
        },
        "id": "bfVFtv7-WNVp",
        "outputId": "ca719634-9189-4801-f966-d4416476027c"
      },
      "execution_count": null,
      "outputs": [
        {
          "output_type": "stream",
          "name": "stdout",
          "text": [
            "['Inserted Item', 'Shlok']\n"
          ]
        }
      ]
    },
    {
      "cell_type": "code",
      "source": [
        "# Task P8.2\n",
        "my_string = \"HelloWorldCharlesDarwinAlfred R. Wallace\"\n",
        "\n",
        "# Slice Wallace\n",
        "wallace = my_string[33:]       # from index 33 to end\n",
        "world   = my_string[5:10]      # World is between index 5 and 9\n",
        "print(wallace, world)          # Wallace World\n"
      ],
      "metadata": {
        "colab": {
          "base_uri": "https://localhost:8080/"
        },
        "id": "xpcAnKkaZOBP",
        "outputId": "00fbefd4-abaf-44f3-ca09-3bac0364346c"
      },
      "execution_count": null,
      "outputs": [
        {
          "output_type": "stream",
          "name": "stdout",
          "text": [
            "Wallace World\n"
          ]
        }
      ]
    },
    {
      "cell_type": "code",
      "source": [
        "# Task P8.3 Rosalind #2\n",
        "s = input(\"Enter the string: \")\n",
        "a, b, c, d = map(int, input(\"Enter four integers separated by spaces: \").split())\n",
        "\n",
        "print(s[a:b+1], s[c:d+1])\n"
      ],
      "metadata": {
        "id": "gbYb1GhrZhfj",
        "colab": {
          "base_uri": "https://localhost:8080/"
        },
        "outputId": "08f8299a-ffa4-4a2d-f9fa-c894e936aa31"
      },
      "execution_count": null,
      "outputs": [
        {
          "output_type": "stream",
          "name": "stdout",
          "text": [
            "Enter the string: icU83U2xQpwkpGNqCPplVHnVr2Xj9MwD05ha4q2gwqZkQeASBzEyTtb5b70P3cdAJFtuqKDWRImKITringa6odPHrfz60voUz5Jy50JKXPgarullusnLuiudxEylZocvJtcKFxDJv9adKQU0UlVBHPd9W7bBOwe43mKiy.\n",
            "Enter four integers separated by spaces: 77 82 106 113\n",
            "Tringa garullus\n"
          ]
        }
      ]
    },
    {
      "cell_type": "markdown",
      "source": [
        "All the changes are commited to the Github!"
      ],
      "metadata": {
        "id": "SrBUkbx0eken"
      }
    },
    {
      "cell_type": "markdown",
      "source": [
        "P-9"
      ],
      "metadata": {
        "id": "8BOypXLJWYlK"
      }
    },
    {
      "cell_type": "code",
      "source": [
        "# Task P9.1\n",
        "a = int(input(\"Enter the first number: \"))\n",
        "b = int(input(\"Enter the second number: \"))\n",
        "\n",
        "if a == b:\n",
        "    result = a + b   # add if they are the same\n",
        "else:\n",
        "    result = a - b   # subtract if they are different\n",
        "\n",
        "print(\"Result:\", result)\n"
      ],
      "metadata": {
        "colab": {
          "base_uri": "https://localhost:8080/"
        },
        "id": "KJeCc0yCWXZV",
        "outputId": "1c56a3a2-1412-41f3-8e12-271b7493bf1a"
      },
      "execution_count": null,
      "outputs": [
        {
          "output_type": "stream",
          "name": "stdout",
          "text": [
            "Enter the first number: 5\n",
            "Enter the second number: 9\n",
            "Result: -4\n"
          ]
        }
      ]
    },
    {
      "cell_type": "markdown",
      "source": [
        "P-10"
      ],
      "metadata": {
        "id": "mF1LSVDvfh4H"
      }
    },
    {
      "cell_type": "code",
      "source": [
        "# Task P10.1\n",
        "a = 1   # counter starts at 1\n",
        "\n",
        "while a <= 3:   # loop continues while a is less than or equal to 3\n",
        "    print(\"Counting!\")\n",
        "    a += 1      # increase counter by 1 each time\n"
      ],
      "metadata": {
        "id": "HVm8e3rwWcvB",
        "colab": {
          "base_uri": "https://localhost:8080/"
        },
        "outputId": "2fca120f-2c4e-44e7-9522-8a2972efb9d6"
      },
      "execution_count": null,
      "outputs": [
        {
          "output_type": "stream",
          "name": "stdout",
          "text": [
            "Counting!\n",
            "Counting!\n",
            "Counting!\n"
          ]
        }
      ]
    },
    {
      "cell_type": "markdown",
      "source": [
        "P-11"
      ],
      "metadata": {
        "id": "ir2fGezkgWfi"
      }
    },
    {
      "cell_type": "code",
      "source": [
        "# Task P11.1\n",
        "names = [\"Alice\", \"Bob\", \"Charlie\", \"Diana\"]  # Line 1: list of names\n",
        "\n",
        "for name in names:   # Line 3: for loop\n",
        "    print(\"Hello\", name)   # Line 4: runs each time\n"
      ],
      "metadata": {
        "colab": {
          "base_uri": "https://localhost:8080/"
        },
        "id": "MIki5QkEflsI",
        "outputId": "c636cdc5-18f1-4649-aa07-268b03e38980"
      },
      "execution_count": null,
      "outputs": [
        {
          "output_type": "stream",
          "name": "stdout",
          "text": [
            "Hello Alice\n",
            "Hello Bob\n",
            "Hello Charlie\n",
            "Hello Diana\n"
          ]
        }
      ]
    },
    {
      "cell_type": "markdown",
      "source": [
        "P-12"
      ],
      "metadata": {
        "id": "-VwJQT1cghRP"
      }
    },
    {
      "cell_type": "code",
      "source": [
        "# Task P12.1\n",
        "iterations = 10   # Line 2\n",
        "\n",
        "for number in range(iterations):   # Line 5\n",
        "    print(number)   # Line 6\n"
      ],
      "metadata": {
        "colab": {
          "base_uri": "https://localhost:8080/"
        },
        "id": "wpEWl2iqgYeK",
        "outputId": "f8835947-954a-47a8-c8db-f23185b49d02"
      },
      "execution_count": null,
      "outputs": [
        {
          "output_type": "stream",
          "name": "stdout",
          "text": [
            "0\n",
            "1\n",
            "2\n",
            "3\n",
            "4\n",
            "5\n",
            "6\n",
            "7\n",
            "8\n",
            "9\n"
          ]
        }
      ]
    },
    {
      "cell_type": "code",
      "source": [
        "# Task P12.2\n",
        "for number in range(9, 28, 3):   # start=9, stop=28 (since stop is exclusive), step=3\n",
        "    print(number)\n"
      ],
      "metadata": {
        "colab": {
          "base_uri": "https://localhost:8080/"
        },
        "id": "Fjcn5JyhgoTi",
        "outputId": "246ddb7d-b046-4a61-8ba7-6f9d25e115d1"
      },
      "execution_count": null,
      "outputs": [
        {
          "output_type": "stream",
          "name": "stdout",
          "text": [
            "9\n",
            "12\n",
            "15\n",
            "18\n",
            "21\n",
            "24\n",
            "27\n"
          ]
        }
      ]
    },
    {
      "cell_type": "code",
      "source": [
        "# Task P12.3\n",
        "a, b = map(int, input().split())\n",
        "print(sum(n for n in range(a, b+1) if n % 2 == 1))"
      ],
      "metadata": {
        "colab": {
          "base_uri": "https://localhost:8080/"
        },
        "id": "elKC3LYMgqlN",
        "outputId": "82f258c0-6502-4187-c235-ab83aa609bbd"
      },
      "execution_count": null,
      "outputs": [
        {
          "output_type": "stream",
          "name": "stdout",
          "text": [
            "4455 9267\n",
            "16514427\n"
          ]
        }
      ]
    },
    {
      "cell_type": "markdown",
      "source": [
        "All changes committed to github!"
      ],
      "metadata": {
        "id": "wwyM43mahw8b"
      }
    },
    {
      "cell_type": "markdown",
      "source": [
        "P-13"
      ],
      "metadata": {
        "id": "qyjvfmPEh5u8"
      }
    },
    {
      "cell_type": "code",
      "source": [
        "# Task P13.1\n",
        "\n",
        "from google.colab import files\n",
        "uploaded = files.upload()  # pick your practice.txt\n",
        "\n",
        "with open(\"rosalind_ini5.txt\", \"r\", encoding=\"utf-8\") as f:\n",
        "    print(f.read())\n"
      ],
      "metadata": {
        "id": "Rouz7FVuhESO",
        "colab": {
          "base_uri": "https://localhost:8080/",
          "height": 784
        },
        "outputId": "ddf6c9ce-0175-43a7-e1ad-f8277594d65a"
      },
      "execution_count": 41,
      "outputs": [
        {
          "output_type": "display_data",
          "data": {
            "text/plain": [
              "<IPython.core.display.HTML object>"
            ],
            "text/html": [
              "\n",
              "     <input type=\"file\" id=\"files-38180e78-6b13-4985-a882-22f3d9894b52\" name=\"files[]\" multiple disabled\n",
              "        style=\"border:none\" />\n",
              "     <output id=\"result-38180e78-6b13-4985-a882-22f3d9894b52\">\n",
              "      Upload widget is only available when the cell has been executed in the\n",
              "      current browser session. Please rerun this cell to enable.\n",
              "      </output>\n",
              "      <script>// Copyright 2017 Google LLC\n",
              "//\n",
              "// Licensed under the Apache License, Version 2.0 (the \"License\");\n",
              "// you may not use this file except in compliance with the License.\n",
              "// You may obtain a copy of the License at\n",
              "//\n",
              "//      http://www.apache.org/licenses/LICENSE-2.0\n",
              "//\n",
              "// Unless required by applicable law or agreed to in writing, software\n",
              "// distributed under the License is distributed on an \"AS IS\" BASIS,\n",
              "// WITHOUT WARRANTIES OR CONDITIONS OF ANY KIND, either express or implied.\n",
              "// See the License for the specific language governing permissions and\n",
              "// limitations under the License.\n",
              "\n",
              "/**\n",
              " * @fileoverview Helpers for google.colab Python module.\n",
              " */\n",
              "(function(scope) {\n",
              "function span(text, styleAttributes = {}) {\n",
              "  const element = document.createElement('span');\n",
              "  element.textContent = text;\n",
              "  for (const key of Object.keys(styleAttributes)) {\n",
              "    element.style[key] = styleAttributes[key];\n",
              "  }\n",
              "  return element;\n",
              "}\n",
              "\n",
              "// Max number of bytes which will be uploaded at a time.\n",
              "const MAX_PAYLOAD_SIZE = 100 * 1024;\n",
              "\n",
              "function _uploadFiles(inputId, outputId) {\n",
              "  const steps = uploadFilesStep(inputId, outputId);\n",
              "  const outputElement = document.getElementById(outputId);\n",
              "  // Cache steps on the outputElement to make it available for the next call\n",
              "  // to uploadFilesContinue from Python.\n",
              "  outputElement.steps = steps;\n",
              "\n",
              "  return _uploadFilesContinue(outputId);\n",
              "}\n",
              "\n",
              "// This is roughly an async generator (not supported in the browser yet),\n",
              "// where there are multiple asynchronous steps and the Python side is going\n",
              "// to poll for completion of each step.\n",
              "// This uses a Promise to block the python side on completion of each step,\n",
              "// then passes the result of the previous step as the input to the next step.\n",
              "function _uploadFilesContinue(outputId) {\n",
              "  const outputElement = document.getElementById(outputId);\n",
              "  const steps = outputElement.steps;\n",
              "\n",
              "  const next = steps.next(outputElement.lastPromiseValue);\n",
              "  return Promise.resolve(next.value.promise).then((value) => {\n",
              "    // Cache the last promise value to make it available to the next\n",
              "    // step of the generator.\n",
              "    outputElement.lastPromiseValue = value;\n",
              "    return next.value.response;\n",
              "  });\n",
              "}\n",
              "\n",
              "/**\n",
              " * Generator function which is called between each async step of the upload\n",
              " * process.\n",
              " * @param {string} inputId Element ID of the input file picker element.\n",
              " * @param {string} outputId Element ID of the output display.\n",
              " * @return {!Iterable<!Object>} Iterable of next steps.\n",
              " */\n",
              "function* uploadFilesStep(inputId, outputId) {\n",
              "  const inputElement = document.getElementById(inputId);\n",
              "  inputElement.disabled = false;\n",
              "\n",
              "  const outputElement = document.getElementById(outputId);\n",
              "  outputElement.innerHTML = '';\n",
              "\n",
              "  const pickedPromise = new Promise((resolve) => {\n",
              "    inputElement.addEventListener('change', (e) => {\n",
              "      resolve(e.target.files);\n",
              "    });\n",
              "  });\n",
              "\n",
              "  const cancel = document.createElement('button');\n",
              "  inputElement.parentElement.appendChild(cancel);\n",
              "  cancel.textContent = 'Cancel upload';\n",
              "  const cancelPromise = new Promise((resolve) => {\n",
              "    cancel.onclick = () => {\n",
              "      resolve(null);\n",
              "    };\n",
              "  });\n",
              "\n",
              "  // Wait for the user to pick the files.\n",
              "  const files = yield {\n",
              "    promise: Promise.race([pickedPromise, cancelPromise]),\n",
              "    response: {\n",
              "      action: 'starting',\n",
              "    }\n",
              "  };\n",
              "\n",
              "  cancel.remove();\n",
              "\n",
              "  // Disable the input element since further picks are not allowed.\n",
              "  inputElement.disabled = true;\n",
              "\n",
              "  if (!files) {\n",
              "    return {\n",
              "      response: {\n",
              "        action: 'complete',\n",
              "      }\n",
              "    };\n",
              "  }\n",
              "\n",
              "  for (const file of files) {\n",
              "    const li = document.createElement('li');\n",
              "    li.append(span(file.name, {fontWeight: 'bold'}));\n",
              "    li.append(span(\n",
              "        `(${file.type || 'n/a'}) - ${file.size} bytes, ` +\n",
              "        `last modified: ${\n",
              "            file.lastModifiedDate ? file.lastModifiedDate.toLocaleDateString() :\n",
              "                                    'n/a'} - `));\n",
              "    const percent = span('0% done');\n",
              "    li.appendChild(percent);\n",
              "\n",
              "    outputElement.appendChild(li);\n",
              "\n",
              "    const fileDataPromise = new Promise((resolve) => {\n",
              "      const reader = new FileReader();\n",
              "      reader.onload = (e) => {\n",
              "        resolve(e.target.result);\n",
              "      };\n",
              "      reader.readAsArrayBuffer(file);\n",
              "    });\n",
              "    // Wait for the data to be ready.\n",
              "    let fileData = yield {\n",
              "      promise: fileDataPromise,\n",
              "      response: {\n",
              "        action: 'continue',\n",
              "      }\n",
              "    };\n",
              "\n",
              "    // Use a chunked sending to avoid message size limits. See b/62115660.\n",
              "    let position = 0;\n",
              "    do {\n",
              "      const length = Math.min(fileData.byteLength - position, MAX_PAYLOAD_SIZE);\n",
              "      const chunk = new Uint8Array(fileData, position, length);\n",
              "      position += length;\n",
              "\n",
              "      const base64 = btoa(String.fromCharCode.apply(null, chunk));\n",
              "      yield {\n",
              "        response: {\n",
              "          action: 'append',\n",
              "          file: file.name,\n",
              "          data: base64,\n",
              "        },\n",
              "      };\n",
              "\n",
              "      let percentDone = fileData.byteLength === 0 ?\n",
              "          100 :\n",
              "          Math.round((position / fileData.byteLength) * 100);\n",
              "      percent.textContent = `${percentDone}% done`;\n",
              "\n",
              "    } while (position < fileData.byteLength);\n",
              "  }\n",
              "\n",
              "  // All done.\n",
              "  yield {\n",
              "    response: {\n",
              "      action: 'complete',\n",
              "    }\n",
              "  };\n",
              "}\n",
              "\n",
              "scope.google = scope.google || {};\n",
              "scope.google.colab = scope.google.colab || {};\n",
              "scope.google.colab._files = {\n",
              "  _uploadFiles,\n",
              "  _uploadFilesContinue,\n",
              "};\n",
              "})(self);\n",
              "</script> "
            ]
          },
          "metadata": {}
        },
        {
          "output_type": "stream",
          "name": "stdout",
          "text": [
            "Saving rosalind_ini5.txt to rosalind_ini5 (1).txt\n",
            "`Twas brillig, and the slithy toves\n",
            "Some things in life are bad, they can really make you mad\n",
            "  Did gyre and gimble in the wabe:\n",
            "Other things just make you swear and curse\n",
            "All mimsy were the borogoves,\n",
            "When you're chewing on life's gristle, don't grumble give a whistle\n",
            "  And the mome raths outgrabe.\n",
            "This will help things turn out for the best\n",
            "\"Beware the Jabberwock, my son!\n",
            "Always look on the bright side of life\n",
            "  The jaws that bite, the claws that catch!\n",
            "Always look on the right side of life\n",
            "Beware the Jubjub bird, and shun\n",
            "If life seems jolly rotten, there's something you've forgotten\n",
            "  The frumious Bandersnatch!\"\n",
            "And that's to laugh and smile and dance and sing\n",
            "He took his vorpal sword in hand:\n",
            "When you're feeling in the dumps, don't be silly, chumps\n",
            "  Long time the manxome foe he sought --\n",
            "Just purse your lips and whistle, that's the thing\n",
            "So rested he by the Tumtum tree,\n",
            "So, always look on the bright side of death\n",
            "  And stood awhile in thought.\n",
            "Just before you draw your terminal breath\n",
            "And, as in uffish thought he stood,\n",
            "Life's a counterfeit and when you look at it\n",
            "  The Jabberwock, with eyes of flame,\n",
            "Life's a laugh and death's the joke, it's true\n",
            "Came whiffling through the tulgey wood,\n",
            "You see, it's all a show, keep them laughing as you go\n",
            "  And burbled as it came!\n",
            "Just remember the last laugh is on you\n",
            "One, two! One, two! And through and through\n",
            "Always look on the bright side of life\n",
            "  The vorpal blade went snicker-snack!\n",
            "And always look on the right side of life\n",
            "He left it dead, and with its head\n",
            "Always look on the bright side of life\n",
            "  He went galumphing back.\n",
            "And always look on the right side of life\n",
            "\n"
          ]
        }
      ]
    },
    {
      "cell_type": "code",
      "source": [
        "with open(\"rosalind_ini5.txt\", \"r\") as data:\n",
        "    whole = data.read()\n",
        "    print(\"[read()] ->\"); print(whole)\n",
        "\n",
        "with open(\"rosalind_ini5.txt\", \"r\") as data:\n",
        "    line1 = data.readline()\n",
        "    print(\"\\n[readline()] ->\"); print(line1, end=\"\")\n",
        "\n",
        "with open(\"rosalind_ini5.txt\", \"r\") as data:\n",
        "    lines = data.readlines()\n",
        "    print(\"\\n[readlines()] ->\"); print(lines)"
      ],
      "metadata": {
        "colab": {
          "base_uri": "https://localhost:8080/"
        },
        "id": "N10ekCbajUZf",
        "outputId": "450f4fb5-572b-4916-b7ae-d7e4d80fcbf1"
      },
      "execution_count": 43,
      "outputs": [
        {
          "output_type": "stream",
          "name": "stdout",
          "text": [
            "[read()] ->\n",
            "`Twas brillig, and the slithy toves\n",
            "Some things in life are bad, they can really make you mad\n",
            "  Did gyre and gimble in the wabe:\n",
            "Other things just make you swear and curse\n",
            "All mimsy were the borogoves,\n",
            "When you're chewing on life's gristle, don't grumble give a whistle\n",
            "  And the mome raths outgrabe.\n",
            "This will help things turn out for the best\n",
            "\"Beware the Jabberwock, my son!\n",
            "Always look on the bright side of life\n",
            "  The jaws that bite, the claws that catch!\n",
            "Always look on the right side of life\n",
            "Beware the Jubjub bird, and shun\n",
            "If life seems jolly rotten, there's something you've forgotten\n",
            "  The frumious Bandersnatch!\"\n",
            "And that's to laugh and smile and dance and sing\n",
            "He took his vorpal sword in hand:\n",
            "When you're feeling in the dumps, don't be silly, chumps\n",
            "  Long time the manxome foe he sought --\n",
            "Just purse your lips and whistle, that's the thing\n",
            "So rested he by the Tumtum tree,\n",
            "So, always look on the bright side of death\n",
            "  And stood awhile in thought.\n",
            "Just before you draw your terminal breath\n",
            "And, as in uffish thought he stood,\n",
            "Life's a counterfeit and when you look at it\n",
            "  The Jabberwock, with eyes of flame,\n",
            "Life's a laugh and death's the joke, it's true\n",
            "Came whiffling through the tulgey wood,\n",
            "You see, it's all a show, keep them laughing as you go\n",
            "  And burbled as it came!\n",
            "Just remember the last laugh is on you\n",
            "One, two! One, two! And through and through\n",
            "Always look on the bright side of life\n",
            "  The vorpal blade went snicker-snack!\n",
            "And always look on the right side of life\n",
            "He left it dead, and with its head\n",
            "Always look on the bright side of life\n",
            "  He went galumphing back.\n",
            "And always look on the right side of life\n",
            "\n",
            "\n",
            "[readline()] ->\n",
            "`Twas brillig, and the slithy toves\n",
            "\n",
            "[readlines()] ->\n",
            "['`Twas brillig, and the slithy toves\\n', 'Some things in life are bad, they can really make you mad\\n', '  Did gyre and gimble in the wabe:\\n', 'Other things just make you swear and curse\\n', 'All mimsy were the borogoves,\\n', \"When you're chewing on life's gristle, don't grumble give a whistle\\n\", '  And the mome raths outgrabe.\\n', 'This will help things turn out for the best\\n', '\"Beware the Jabberwock, my son!\\n', 'Always look on the bright side of life\\n', '  The jaws that bite, the claws that catch!\\n', 'Always look on the right side of life\\n', 'Beware the Jubjub bird, and shun\\n', \"If life seems jolly rotten, there's something you've forgotten\\n\", '  The frumious Bandersnatch!\"\\n', \"And that's to laugh and smile and dance and sing\\n\", 'He took his vorpal sword in hand:\\n', \"When you're feeling in the dumps, don't be silly, chumps\\n\", '  Long time the manxome foe he sought --\\n', \"Just purse your lips and whistle, that's the thing\\n\", 'So rested he by the Tumtum tree,\\n', 'So, always look on the bright side of death\\n', '  And stood awhile in thought.\\n', 'Just before you draw your terminal breath\\n', 'And, as in uffish thought he stood,\\n', \"Life's a counterfeit and when you look at it\\n\", '  The Jabberwock, with eyes of flame,\\n', \"Life's a laugh and death's the joke, it's true\\n\", 'Came whiffling through the tulgey wood,\\n', \"You see, it's all a show, keep them laughing as you go\\n\", '  And burbled as it came!\\n', 'Just remember the last laugh is on you\\n', 'One, two! One, two! And through and through\\n', 'Always look on the bright side of life\\n', '  The vorpal blade went snicker-snack!\\n', 'And always look on the right side of life\\n', 'He left it dead, and with its head\\n', 'Always look on the bright side of life\\n', '  He went galumphing back.\\n', 'And always look on the right side of life\\n']\n"
          ]
        }
      ]
    },
    {
      "cell_type": "markdown",
      "source": [
        "P-14"
      ],
      "metadata": {
        "id": "625cZQXakZv-"
      }
    },
    {
      "cell_type": "code",
      "source": [
        "# Task 14.1\n",
        "with open(\"rosalind_ini5.txt\", \"r\") as data:\n",
        "    list_of_lines = data.readlines()\n",
        "\n",
        "print(\"\".join(list_of_lines))  # looks like original input"
      ],
      "metadata": {
        "colab": {
          "base_uri": "https://localhost:8080/"
        },
        "id": "Tpf7CCKAj4Wm",
        "outputId": "bf06455a-eb23-49be-a2d7-77f9c5e480e1"
      },
      "execution_count": 44,
      "outputs": [
        {
          "output_type": "stream",
          "name": "stdout",
          "text": [
            "`Twas brillig, and the slithy toves\n",
            "Some things in life are bad, they can really make you mad\n",
            "  Did gyre and gimble in the wabe:\n",
            "Other things just make you swear and curse\n",
            "All mimsy were the borogoves,\n",
            "When you're chewing on life's gristle, don't grumble give a whistle\n",
            "  And the mome raths outgrabe.\n",
            "This will help things turn out for the best\n",
            "\"Beware the Jabberwock, my son!\n",
            "Always look on the bright side of life\n",
            "  The jaws that bite, the claws that catch!\n",
            "Always look on the right side of life\n",
            "Beware the Jubjub bird, and shun\n",
            "If life seems jolly rotten, there's something you've forgotten\n",
            "  The frumious Bandersnatch!\"\n",
            "And that's to laugh and smile and dance and sing\n",
            "He took his vorpal sword in hand:\n",
            "When you're feeling in the dumps, don't be silly, chumps\n",
            "  Long time the manxome foe he sought --\n",
            "Just purse your lips and whistle, that's the thing\n",
            "So rested he by the Tumtum tree,\n",
            "So, always look on the bright side of death\n",
            "  And stood awhile in thought.\n",
            "Just before you draw your terminal breath\n",
            "And, as in uffish thought he stood,\n",
            "Life's a counterfeit and when you look at it\n",
            "  The Jabberwock, with eyes of flame,\n",
            "Life's a laugh and death's the joke, it's true\n",
            "Came whiffling through the tulgey wood,\n",
            "You see, it's all a show, keep them laughing as you go\n",
            "  And burbled as it came!\n",
            "Just remember the last laugh is on you\n",
            "One, two! One, two! And through and through\n",
            "Always look on the bright side of life\n",
            "  The vorpal blade went snicker-snack!\n",
            "And always look on the right side of life\n",
            "He left it dead, and with its head\n",
            "Always look on the bright side of life\n",
            "  He went galumphing back.\n",
            "And always look on the right side of life\n",
            "\n"
          ]
        }
      ]
    },
    {
      "cell_type": "markdown",
      "source": [
        "P-15"
      ],
      "metadata": {
        "id": "fVRM7dvak8px"
      }
    },
    {
      "cell_type": "code",
      "source": [
        "# Task P15.1\n",
        "\n",
        "with open(\"rosalind_ini5.txt\", \"r\") as data:\n",
        "    for line in data:              # Line 3: loop through each line\n",
        "        print(line.rstrip())                # Line 4: print line (but adds extra newline)\n"
      ],
      "metadata": {
        "colab": {
          "base_uri": "https://localhost:8080/"
        },
        "id": "kwLx506mkgx5",
        "outputId": "bc35e531-0015-452f-c559-4f03014fcb90"
      },
      "execution_count": 46,
      "outputs": [
        {
          "output_type": "stream",
          "name": "stdout",
          "text": [
            "`Twas brillig, and the slithy toves\n",
            "Some things in life are bad, they can really make you mad\n",
            "  Did gyre and gimble in the wabe:\n",
            "Other things just make you swear and curse\n",
            "All mimsy were the borogoves,\n",
            "When you're chewing on life's gristle, don't grumble give a whistle\n",
            "  And the mome raths outgrabe.\n",
            "This will help things turn out for the best\n",
            "\"Beware the Jabberwock, my son!\n",
            "Always look on the bright side of life\n",
            "  The jaws that bite, the claws that catch!\n",
            "Always look on the right side of life\n",
            "Beware the Jubjub bird, and shun\n",
            "If life seems jolly rotten, there's something you've forgotten\n",
            "  The frumious Bandersnatch!\"\n",
            "And that's to laugh and smile and dance and sing\n",
            "He took his vorpal sword in hand:\n",
            "When you're feeling in the dumps, don't be silly, chumps\n",
            "  Long time the manxome foe he sought --\n",
            "Just purse your lips and whistle, that's the thing\n",
            "So rested he by the Tumtum tree,\n",
            "So, always look on the bright side of death\n",
            "  And stood awhile in thought.\n",
            "Just before you draw your terminal breath\n",
            "And, as in uffish thought he stood,\n",
            "Life's a counterfeit and when you look at it\n",
            "  The Jabberwock, with eyes of flame,\n",
            "Life's a laugh and death's the joke, it's true\n",
            "Came whiffling through the tulgey wood,\n",
            "You see, it's all a show, keep them laughing as you go\n",
            "  And burbled as it came!\n",
            "Just remember the last laugh is on you\n",
            "One, two! One, two! And through and through\n",
            "Always look on the bright side of life\n",
            "  The vorpal blade went snicker-snack!\n",
            "And always look on the right side of life\n",
            "He left it dead, and with its head\n",
            "Always look on the bright side of life\n",
            "  He went galumphing back.\n",
            "And always look on the right side of life\n"
          ]
        }
      ]
    },
    {
      "cell_type": "code",
      "source": [
        "# Task 15.2\n",
        "with open(\"rosalind_ini5.txt\", \"r\") as f:\n",
        "    counter = 1\n",
        "    for line in f:\n",
        "        if counter % 2 == 0:       # check if line number is even\n",
        "            print(line, end=\"\")    # print without extra newlines\n",
        "        counter += 1\n"
      ],
      "metadata": {
        "colab": {
          "base_uri": "https://localhost:8080/"
        },
        "id": "D1Wu1JWAlBrV",
        "outputId": "e146afe0-5aae-4ad4-f7b7-8c43604da7c7"
      },
      "execution_count": 48,
      "outputs": [
        {
          "output_type": "stream",
          "name": "stdout",
          "text": [
            "Some things in life are bad, they can really make you mad\n",
            "Other things just make you swear and curse\n",
            "When you're chewing on life's gristle, don't grumble give a whistle\n",
            "This will help things turn out for the best\n",
            "Always look on the bright side of life\n",
            "Always look on the right side of life\n",
            "If life seems jolly rotten, there's something you've forgotten\n",
            "And that's to laugh and smile and dance and sing\n",
            "When you're feeling in the dumps, don't be silly, chumps\n",
            "Just purse your lips and whistle, that's the thing\n",
            "So, always look on the bright side of death\n",
            "Just before you draw your terminal breath\n",
            "Life's a counterfeit and when you look at it\n",
            "Life's a laugh and death's the joke, it's true\n",
            "You see, it's all a show, keep them laughing as you go\n",
            "Just remember the last laugh is on you\n",
            "Always look on the bright side of life\n",
            "And always look on the right side of life\n",
            "Always look on the bright side of life\n",
            "And always look on the right side of life\n"
          ]
        }
      ]
    },
    {
      "cell_type": "markdown",
      "source": [
        "Committed all the changes in Github!"
      ],
      "metadata": {
        "id": "FcwiV2nIlfH2"
      }
    },
    {
      "cell_type": "code",
      "source": [],
      "metadata": {
        "id": "qmO5AvMklVSp"
      },
      "execution_count": null,
      "outputs": []
    }
  ]
}