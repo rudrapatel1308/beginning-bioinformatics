{
  "nbformat": 4,
  "nbformat_minor": 0,
  "metadata": {
    "colab": {
      "provenance": [],
      "authorship_tag": "ABX9TyO8jXyUpGutUtv6qMuVkLFr",
      "include_colab_link": true
    },
    "kernelspec": {
      "name": "python3",
      "display_name": "Python 3"
    },
    "language_info": {
      "name": "python"
    }
  },
  "cells": [
    {
      "cell_type": "markdown",
      "metadata": {
        "id": "view-in-github",
        "colab_type": "text"
      },
      "source": [
        "<a href=\"https://colab.research.google.com/github/rudrapatel1308/beginning-bioinformatics/blob/main/Bioinformatics_Week3.ipynb\" target=\"_parent\"><img src=\"https://colab.research.google.com/assets/colab-badge.svg\" alt=\"Open In Colab\"/></a>"
      ]
    },
    {
      "cell_type": "markdown",
      "source": [
        "# Name: Rudra Maheshbhai Patel"
      ],
      "metadata": {
        "id": "tdy-OHT9d15Z"
      }
    },
    {
      "cell_type": "markdown",
      "source": [
        "P-6"
      ],
      "metadata": {
        "id": "15foywfjWOoI"
      }
    },
    {
      "cell_type": "code",
      "execution_count": 24,
      "metadata": {
        "id": "1O1ho1mNVDdy",
        "colab": {
          "base_uri": "https://localhost:8080/"
        },
        "outputId": "892b69a3-5eda-46da-e479-4ffa619cf409"
      },
      "outputs": [
        {
          "output_type": "stream",
          "name": "stdout",
          "text": [
            "Enter your name: Rudra\n",
            "Hello Rudra\n"
          ]
        }
      ],
      "source": [
        "# Task P6.1\n",
        "name = input(\"Enter your name: \")\n",
        "print(\"Hello\", name)\n"
      ]
    },
    {
      "cell_type": "code",
      "source": [
        "# Task P6.2\n",
        "a = int(input(\"Enter the first number (a): \"))\n",
        "b = int(input(\"Enter the second number (b): \"))\n",
        "c_squared = a**2 + b**2\n",
        "print(\"The square of the hypotenuse is:\", c_squared)\n"
      ],
      "metadata": {
        "colab": {
          "base_uri": "https://localhost:8080/"
        },
        "id": "UAK-0xV8X_BF",
        "outputId": "c2ea2f61-4058-49bf-a122-ea234eaaceaa"
      },
      "execution_count": 25,
      "outputs": [
        {
          "output_type": "stream",
          "name": "stdout",
          "text": [
            "Enter the first number (a): 810\n",
            "Enter the second number (b): 991\n",
            "The square of the hypotenuse is: 1638181\n"
          ]
        }
      ]
    },
    {
      "cell_type": "markdown",
      "source": [
        "P-7"
      ],
      "metadata": {
        "id": "VKmRrNyqWQ8l"
      }
    },
    {
      "cell_type": "code",
      "source": [
        "# Task P7.1\n",
        "my_list = [\"Rudra\", \"Shlok\", \"Shilp\"]\n",
        "\n",
        "# Print the second element (index 1 → because indexing starts at 0)\n",
        "print(my_list[1])   # Output: World\n"
      ],
      "metadata": {
        "colab": {
          "base_uri": "https://localhost:8080/"
        },
        "id": "XWi70VEvWH14",
        "outputId": "6b8c03dd-6adf-4b3f-c9a4-c5a3e83c00a4"
      },
      "execution_count": 26,
      "outputs": [
        {
          "output_type": "stream",
          "name": "stdout",
          "text": [
            "Shlok\n"
          ]
        }
      ]
    },
    {
      "cell_type": "code",
      "source": [
        "# Task P7.2\n",
        "my_list[2] = \"Alfred R. Wallace\"  # Replacing \"Charles Darwin\" at index 2\n",
        "print(my_list)  # ['Hello', 'World', 'Alfred R. Wallace']\n"
      ],
      "metadata": {
        "colab": {
          "base_uri": "https://localhost:8080/"
        },
        "id": "A2kgICDxYrJp",
        "outputId": "731f3f96-edba-4528-e4dc-05e7967f1558"
      },
      "execution_count": 27,
      "outputs": [
        {
          "output_type": "stream",
          "name": "stdout",
          "text": [
            "['Rudra', 'Shlok', 'Alfred R. Wallace']\n"
          ]
        }
      ]
    },
    {
      "cell_type": "code",
      "source": [
        "# Task P7.3\n",
        "my_list.append(\"Charles Darwin\")  # Add item back at the end of the list\n",
        "print(my_list)  # ['Hello', 'World', 'Alfred R. Wallace', 'Charles Darwin']\n"
      ],
      "metadata": {
        "colab": {
          "base_uri": "https://localhost:8080/"
        },
        "id": "AyWyKNcVYuQ5",
        "outputId": "5672f48d-7bc7-4737-99cd-573ded5b653d"
      },
      "execution_count": 28,
      "outputs": [
        {
          "output_type": "stream",
          "name": "stdout",
          "text": [
            "['Rudra', 'Shlok', 'Alfred R. Wallace', 'Charles Darwin']\n"
          ]
        }
      ]
    },
    {
      "cell_type": "code",
      "source": [
        "# Task P7.4\n",
        "my_list.insert(1, \"Inserted Item\")  # Insert at index 1\n",
        "print(my_list)\n",
        "\n"
      ],
      "metadata": {
        "colab": {
          "base_uri": "https://localhost:8080/"
        },
        "id": "2VzVDflkYwrK",
        "outputId": "00a55874-4dbb-4536-cdb9-0f7658b2a7bd"
      },
      "execution_count": 29,
      "outputs": [
        {
          "output_type": "stream",
          "name": "stdout",
          "text": [
            "['Rudra', 'Inserted Item', 'Shlok', 'Alfred R. Wallace', 'Charles Darwin']\n"
          ]
        }
      ]
    },
    {
      "cell_type": "markdown",
      "source": [
        "P-8"
      ],
      "metadata": {
        "id": "SBEXaEJeWV9F"
      }
    },
    {
      "cell_type": "code",
      "source": [
        "# Task P8.1\n",
        "my_list = ['Rudra', 'Inserted Item', 'Inserted Item', 'Shlok', 'Alfred R. Wallace', 'Charles Darwin']\n",
        "\n",
        "# Slice World and Alfred R. Wallace\n",
        "print(my_list[2:4])   # ['World', 'Alfred R. Wallace']\n"
      ],
      "metadata": {
        "colab": {
          "base_uri": "https://localhost:8080/"
        },
        "id": "bfVFtv7-WNVp",
        "outputId": "ca719634-9189-4801-f966-d4416476027c"
      },
      "execution_count": 30,
      "outputs": [
        {
          "output_type": "stream",
          "name": "stdout",
          "text": [
            "['Inserted Item', 'Shlok']\n"
          ]
        }
      ]
    },
    {
      "cell_type": "code",
      "source": [
        "# Task P8.2\n",
        "my_string = \"HelloWorldCharlesDarwinAlfred R. Wallace\"\n",
        "\n",
        "# Slice Wallace\n",
        "wallace = my_string[33:]       # from index 33 to end\n",
        "world   = my_string[5:10]      # World is between index 5 and 9\n",
        "print(wallace, world)          # Wallace World\n"
      ],
      "metadata": {
        "colab": {
          "base_uri": "https://localhost:8080/"
        },
        "id": "xpcAnKkaZOBP",
        "outputId": "00fbefd4-abaf-44f3-ca09-3bac0364346c"
      },
      "execution_count": 31,
      "outputs": [
        {
          "output_type": "stream",
          "name": "stdout",
          "text": [
            "Wallace World\n"
          ]
        }
      ]
    },
    {
      "cell_type": "code",
      "source": [
        "# Task P8.3 Rosalind #2\n",
        "s = input(\"Enter the string: \")\n",
        "a, b, c, d = map(int, input(\"Enter four integers separated by spaces: \").split())\n",
        "\n",
        "print(s[a:b+1], s[c:d+1])\n"
      ],
      "metadata": {
        "id": "gbYb1GhrZhfj",
        "colab": {
          "base_uri": "https://localhost:8080/"
        },
        "outputId": "08f8299a-ffa4-4a2d-f9fa-c894e936aa31"
      },
      "execution_count": 32,
      "outputs": [
        {
          "output_type": "stream",
          "name": "stdout",
          "text": [
            "Enter the string: icU83U2xQpwkpGNqCPplVHnVr2Xj9MwD05ha4q2gwqZkQeASBzEyTtb5b70P3cdAJFtuqKDWRImKITringa6odPHrfz60voUz5Jy50JKXPgarullusnLuiudxEylZocvJtcKFxDJv9adKQU0UlVBHPd9W7bBOwe43mKiy.\n",
            "Enter four integers separated by spaces: 77 82 106 113\n",
            "Tringa garullus\n"
          ]
        }
      ]
    },
    {
      "cell_type": "markdown",
      "source": [
        "All the changes are commited to the Github!"
      ],
      "metadata": {
        "id": "SrBUkbx0eken"
      }
    },
    {
      "cell_type": "markdown",
      "source": [
        "P-9"
      ],
      "metadata": {
        "id": "8BOypXLJWYlK"
      }
    },
    {
      "cell_type": "code",
      "source": [],
      "metadata": {
        "colab": {
          "base_uri": "https://localhost:8080/"
        },
        "id": "KJeCc0yCWXZV",
        "outputId": "c6ecb190-b332-43ca-a2a7-a073979ff8cd"
      },
      "execution_count": null,
      "outputs": [
        {
          "output_type": "stream",
          "name": "stdout",
          "text": [
            "10\n"
          ]
        }
      ]
    },
    {
      "cell_type": "code",
      "source": [],
      "metadata": {
        "id": "HVm8e3rwWcvB"
      },
      "execution_count": null,
      "outputs": []
    }
  ]
}