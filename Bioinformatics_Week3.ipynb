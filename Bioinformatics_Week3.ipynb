{
  "nbformat": 4,
  "nbformat_minor": 0,
  "metadata": {
    "colab": {
      "provenance": [],
      "authorship_tag": "ABX9TyMDJt6KR1OptDiP8LcFGU0+",
      "include_colab_link": true
    },
    "kernelspec": {
      "name": "python3",
      "display_name": "Python 3"
    },
    "language_info": {
      "name": "python"
    }
  },
  "cells": [
    {
      "cell_type": "markdown",
      "metadata": {
        "id": "view-in-github",
        "colab_type": "text"
      },
      "source": [
        "<a href=\"https://colab.research.google.com/github/rudrapatel1308/beginning-bioinformatics/blob/main/Bioinformatics_Week3.ipynb\" target=\"_parent\"><img src=\"https://colab.research.google.com/assets/colab-badge.svg\" alt=\"Open In Colab\"/></a>"
      ]
    },
    {
      "cell_type": "markdown",
      "source": [
        "# Name: Rudra Maheshbhai Patel"
      ],
      "metadata": {
        "id": "tdy-OHT9d15Z"
      }
    },
    {
      "cell_type": "markdown",
      "source": [
        "P-6"
      ],
      "metadata": {
        "id": "15foywfjWOoI"
      }
    },
    {
      "cell_type": "code",
      "execution_count": 24,
      "metadata": {
        "id": "1O1ho1mNVDdy",
        "colab": {
          "base_uri": "https://localhost:8080/"
        },
        "outputId": "892b69a3-5eda-46da-e479-4ffa619cf409"
      },
      "outputs": [
        {
          "output_type": "stream",
          "name": "stdout",
          "text": [
            "Enter your name: Rudra\n",
            "Hello Rudra\n"
          ]
        }
      ],
      "source": [
        "# Task P6.1\n",
        "name = input(\"Enter your name: \")\n",
        "print(\"Hello\", name)\n"
      ]
    },
    {
      "cell_type": "code",
      "source": [
        "# Task P6.2\n",
        "a = int(input(\"Enter the first number (a): \"))\n",
        "b = int(input(\"Enter the second number (b): \"))\n",
        "c_squared = a**2 + b**2\n",
        "print(\"The square of the hypotenuse is:\", c_squared)\n"
      ],
      "metadata": {
        "colab": {
          "base_uri": "https://localhost:8080/"
        },
        "id": "UAK-0xV8X_BF",
        "outputId": "c2ea2f61-4058-49bf-a122-ea234eaaceaa"
      },
      "execution_count": 25,
      "outputs": [
        {
          "output_type": "stream",
          "name": "stdout",
          "text": [
            "Enter the first number (a): 810\n",
            "Enter the second number (b): 991\n",
            "The square of the hypotenuse is: 1638181\n"
          ]
        }
      ]
    },
    {
      "cell_type": "markdown",
      "source": [
        "P-7"
      ],
      "metadata": {
        "id": "VKmRrNyqWQ8l"
      }
    },
    {
      "cell_type": "code",
      "source": [
        "# Task P7.1\n",
        "my_list = [\"Rudra\", \"Shlok\", \"Shilp\"]\n",
        "\n",
        "# Print the second element (index 1 → because indexing starts at 0)\n",
        "print(my_list[1])   # Output: World\n"
      ],
      "metadata": {
        "colab": {
          "base_uri": "https://localhost:8080/"
        },
        "id": "XWi70VEvWH14",
        "outputId": "6b8c03dd-6adf-4b3f-c9a4-c5a3e83c00a4"
      },
      "execution_count": 26,
      "outputs": [
        {
          "output_type": "stream",
          "name": "stdout",
          "text": [
            "Shlok\n"
          ]
        }
      ]
    },
    {
      "cell_type": "code",
      "source": [
        "# Task P7.2\n",
        "my_list[2] = \"Alfred R. Wallace\"  # Replacing \"Charles Darwin\" at index 2\n",
        "print(my_list)  # ['Hello', 'World', 'Alfred R. Wallace']\n"
      ],
      "metadata": {
        "colab": {
          "base_uri": "https://localhost:8080/"
        },
        "id": "A2kgICDxYrJp",
        "outputId": "731f3f96-edba-4528-e4dc-05e7967f1558"
      },
      "execution_count": 27,
      "outputs": [
        {
          "output_type": "stream",
          "name": "stdout",
          "text": [
            "['Rudra', 'Shlok', 'Alfred R. Wallace']\n"
          ]
        }
      ]
    },
    {
      "cell_type": "code",
      "source": [
        "# Task P7.3\n",
        "my_list.append(\"Charles Darwin\")  # Add item back at the end of the list\n",
        "print(my_list)  # ['Hello', 'World', 'Alfred R. Wallace', 'Charles Darwin']\n"
      ],
      "metadata": {
        "colab": {
          "base_uri": "https://localhost:8080/"
        },
        "id": "AyWyKNcVYuQ5",
        "outputId": "5672f48d-7bc7-4737-99cd-573ded5b653d"
      },
      "execution_count": 28,
      "outputs": [
        {
          "output_type": "stream",
          "name": "stdout",
          "text": [
            "['Rudra', 'Shlok', 'Alfred R. Wallace', 'Charles Darwin']\n"
          ]
        }
      ]
    },
    {
      "cell_type": "code",
      "source": [
        "# Task P7.4\n",
        "my_list.insert(1, \"Inserted Item\")  # Insert at index 1\n",
        "print(my_list)\n",
        "\n"
      ],
      "metadata": {
        "colab": {
          "base_uri": "https://localhost:8080/"
        },
        "id": "2VzVDflkYwrK",
        "outputId": "00a55874-4dbb-4536-cdb9-0f7658b2a7bd"
      },
      "execution_count": 29,
      "outputs": [
        {
          "output_type": "stream",
          "name": "stdout",
          "text": [
            "['Rudra', 'Inserted Item', 'Shlok', 'Alfred R. Wallace', 'Charles Darwin']\n"
          ]
        }
      ]
    },
    {
      "cell_type": "markdown",
      "source": [
        "P-8"
      ],
      "metadata": {
        "id": "SBEXaEJeWV9F"
      }
    },
    {
      "cell_type": "code",
      "source": [
        "# Task P8.1\n",
        "my_list = ['Rudra', 'Inserted Item', 'Inserted Item', 'Shlok', 'Alfred R. Wallace', 'Charles Darwin']\n",
        "\n",
        "# Slice World and Alfred R. Wallace\n",
        "print(my_list[2:4])   # ['World', 'Alfred R. Wallace']\n"
      ],
      "metadata": {
        "colab": {
          "base_uri": "https://localhost:8080/"
        },
        "id": "bfVFtv7-WNVp",
        "outputId": "ca719634-9189-4801-f966-d4416476027c"
      },
      "execution_count": 30,
      "outputs": [
        {
          "output_type": "stream",
          "name": "stdout",
          "text": [
            "['Inserted Item', 'Shlok']\n"
          ]
        }
      ]
    },
    {
      "cell_type": "code",
      "source": [
        "# Task P8.2\n",
        "my_string = \"HelloWorldCharlesDarwinAlfred R. Wallace\"\n",
        "\n",
        "# Slice Wallace\n",
        "wallace = my_string[33:]       # from index 33 to end\n",
        "world   = my_string[5:10]      # World is between index 5 and 9\n",
        "print(wallace, world)          # Wallace World\n"
      ],
      "metadata": {
        "colab": {
          "base_uri": "https://localhost:8080/"
        },
        "id": "xpcAnKkaZOBP",
        "outputId": "00fbefd4-abaf-44f3-ca09-3bac0364346c"
      },
      "execution_count": 31,
      "outputs": [
        {
          "output_type": "stream",
          "name": "stdout",
          "text": [
            "Wallace World\n"
          ]
        }
      ]
    },
    {
      "cell_type": "code",
      "source": [
        "# Task P8.3 Rosalind #2\n",
        "s = input(\"Enter the string: \")\n",
        "a, b, c, d = map(int, input(\"Enter four integers separated by spaces: \").split())\n",
        "\n",
        "print(s[a:b+1], s[c:d+1])\n"
      ],
      "metadata": {
        "id": "gbYb1GhrZhfj",
        "colab": {
          "base_uri": "https://localhost:8080/"
        },
        "outputId": "08f8299a-ffa4-4a2d-f9fa-c894e936aa31"
      },
      "execution_count": 32,
      "outputs": [
        {
          "output_type": "stream",
          "name": "stdout",
          "text": [
            "Enter the string: icU83U2xQpwkpGNqCPplVHnVr2Xj9MwD05ha4q2gwqZkQeASBzEyTtb5b70P3cdAJFtuqKDWRImKITringa6odPHrfz60voUz5Jy50JKXPgarullusnLuiudxEylZocvJtcKFxDJv9adKQU0UlVBHPd9W7bBOwe43mKiy.\n",
            "Enter four integers separated by spaces: 77 82 106 113\n",
            "Tringa garullus\n"
          ]
        }
      ]
    },
    {
      "cell_type": "markdown",
      "source": [
        "All the changes are commited to the Github!"
      ],
      "metadata": {
        "id": "SrBUkbx0eken"
      }
    },
    {
      "cell_type": "markdown",
      "source": [
        "P-9"
      ],
      "metadata": {
        "id": "8BOypXLJWYlK"
      }
    },
    {
      "cell_type": "code",
      "source": [
        "# Task P9.1\n",
        "a = int(input(\"Enter the first number: \"))\n",
        "b = int(input(\"Enter the second number: \"))\n",
        "\n",
        "if a == b:\n",
        "    result = a + b   # add if they are the same\n",
        "else:\n",
        "    result = a - b   # subtract if they are different\n",
        "\n",
        "print(\"Result:\", result)\n"
      ],
      "metadata": {
        "colab": {
          "base_uri": "https://localhost:8080/"
        },
        "id": "KJeCc0yCWXZV",
        "outputId": "1c56a3a2-1412-41f3-8e12-271b7493bf1a"
      },
      "execution_count": 33,
      "outputs": [
        {
          "output_type": "stream",
          "name": "stdout",
          "text": [
            "Enter the first number: 5\n",
            "Enter the second number: 9\n",
            "Result: -4\n"
          ]
        }
      ]
    },
    {
      "cell_type": "markdown",
      "source": [
        "P-10"
      ],
      "metadata": {
        "id": "mF1LSVDvfh4H"
      }
    },
    {
      "cell_type": "code",
      "source": [
        "# Task P10.1\n",
        "a = 1   # counter starts at 1\n",
        "\n",
        "while a <= 3:   # loop continues while a is less than or equal to 3\n",
        "    print(\"Counting!\")\n",
        "    a += 1      # increase counter by 1 each time\n"
      ],
      "metadata": {
        "id": "HVm8e3rwWcvB",
        "colab": {
          "base_uri": "https://localhost:8080/"
        },
        "outputId": "2fca120f-2c4e-44e7-9522-8a2972efb9d6"
      },
      "execution_count": 34,
      "outputs": [
        {
          "output_type": "stream",
          "name": "stdout",
          "text": [
            "Counting!\n",
            "Counting!\n",
            "Counting!\n"
          ]
        }
      ]
    },
    {
      "cell_type": "markdown",
      "source": [
        "P-11"
      ],
      "metadata": {
        "id": "ir2fGezkgWfi"
      }
    },
    {
      "cell_type": "code",
      "source": [
        "# Task P11.1\n",
        "names = [\"Alice\", \"Bob\", \"Charlie\", \"Diana\"]  # Line 1: list of names\n",
        "\n",
        "for name in names:   # Line 3: for loop\n",
        "    print(\"Hello\", name)   # Line 4: runs each time\n"
      ],
      "metadata": {
        "colab": {
          "base_uri": "https://localhost:8080/"
        },
        "id": "MIki5QkEflsI",
        "outputId": "c636cdc5-18f1-4649-aa07-268b03e38980"
      },
      "execution_count": 35,
      "outputs": [
        {
          "output_type": "stream",
          "name": "stdout",
          "text": [
            "Hello Alice\n",
            "Hello Bob\n",
            "Hello Charlie\n",
            "Hello Diana\n"
          ]
        }
      ]
    },
    {
      "cell_type": "markdown",
      "source": [
        "P-12"
      ],
      "metadata": {
        "id": "-VwJQT1cghRP"
      }
    },
    {
      "cell_type": "code",
      "source": [
        "# Task P12.1\n",
        "iterations = 10   # Line 2\n",
        "\n",
        "for number in range(iterations):   # Line 5\n",
        "    print(number)   # Line 6\n"
      ],
      "metadata": {
        "colab": {
          "base_uri": "https://localhost:8080/"
        },
        "id": "wpEWl2iqgYeK",
        "outputId": "f8835947-954a-47a8-c8db-f23185b49d02"
      },
      "execution_count": 36,
      "outputs": [
        {
          "output_type": "stream",
          "name": "stdout",
          "text": [
            "0\n",
            "1\n",
            "2\n",
            "3\n",
            "4\n",
            "5\n",
            "6\n",
            "7\n",
            "8\n",
            "9\n"
          ]
        }
      ]
    },
    {
      "cell_type": "code",
      "source": [
        "# Task P12.2\n",
        "for number in range(9, 28, 3):   # start=9, stop=28 (since stop is exclusive), step=3\n",
        "    print(number)\n"
      ],
      "metadata": {
        "colab": {
          "base_uri": "https://localhost:8080/"
        },
        "id": "Fjcn5JyhgoTi",
        "outputId": "246ddb7d-b046-4a61-8ba7-6f9d25e115d1"
      },
      "execution_count": 37,
      "outputs": [
        {
          "output_type": "stream",
          "name": "stdout",
          "text": [
            "9\n",
            "12\n",
            "15\n",
            "18\n",
            "21\n",
            "24\n",
            "27\n"
          ]
        }
      ]
    },
    {
      "cell_type": "code",
      "source": [
        "# Task P12.3\n",
        "a, b = map(int, input().split())\n",
        "print(sum(n for n in range(a, b+1) if n % 2 == 1))"
      ],
      "metadata": {
        "colab": {
          "base_uri": "https://localhost:8080/"
        },
        "id": "elKC3LYMgqlN",
        "outputId": "82f258c0-6502-4187-c235-ab83aa609bbd"
      },
      "execution_count": 39,
      "outputs": [
        {
          "output_type": "stream",
          "name": "stdout",
          "text": [
            "4455 9267\n",
            "16514427\n"
          ]
        }
      ]
    },
    {
      "cell_type": "markdown",
      "source": [
        "All changes committed to github!"
      ],
      "metadata": {
        "id": "wwyM43mahw8b"
      }
    },
    {
      "cell_type": "markdown",
      "source": [],
      "metadata": {
        "id": "qyjvfmPEh5u8"
      }
    },
    {
      "cell_type": "code",
      "source": [],
      "metadata": {
        "id": "Rouz7FVuhESO"
      },
      "execution_count": null,
      "outputs": []
    }
  ]
}